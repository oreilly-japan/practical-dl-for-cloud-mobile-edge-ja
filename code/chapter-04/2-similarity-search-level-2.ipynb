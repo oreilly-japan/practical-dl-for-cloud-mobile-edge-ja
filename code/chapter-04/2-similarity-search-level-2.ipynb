{
 "cells": [
  {
   "cell_type": "markdown",
   "metadata": {},
   "source": [
    "<table class=\"tfo-notebook-buttons\" align=\"center\">\n",
    "  <td>\n",
    "    <a target=\"_blank\" href=\"https://colab.research.google.com/github/practicaldl/Practical-Deep-Learning-Book/blob/master/code/chapter-4/2-similarity-search-level-2.ipynb\"><img src=\"https://www.tensorflow.org/images/colab_logo_32px.png\" />Run in Google Colab</a>\n",
    "  </td>\n",
    "  <td>\n",
    "    <a target=\"_blank\" href=\"https://github.com/practicaldl/Practical-Deep-Learning-Book/blob/master/code/chapter-4/2-similarity-search-level-2.ipynb\"><img src=\"https://www.tensorflow.org/images/GitHub-Mark-32px.png\" />View source on GitHub</a>\n",
    "  </td>\n",
    "</table>\n",
    "\n",
    "This code is part of [Chapter 4 - Building a Reverse Image Search Engine: Understanding Embeddings ](https://learning.oreilly.com/library/view/practical-deep-learning/9781492034858/ch04.html).\n",
    "\n",
    "Note: In order to run this notebook on Google Colab you need to [follow these instructions](https://colab.research.google.com/github/googlecolab/colabtools/blob/master/notebooks/colab-github-demo.ipynb#scrollTo=WzIRIt9d2huC) so that the local data such as the images are available in your Google Drive."
   ]
  },
  {
   "cell_type": "markdown",
   "metadata": {},
   "source": [
    "# Similarity Search\n",
    "\n",
    "## Level 2\n",
    "\n",
    "We benchmark the algorithms based on the time it takes to index images and locate the most similar image based on its features using the Caltech-101 dataset. We also experiment with t-SNE and PCA.\n",
    "\n",
    "### Understanding the time it takes to index images and locate the most similar image based on its features\n",
    "\n",
    "For these experiments we will use the features of the Caltech101 dataset that we read above.\n",
    "\n",
    "First, let's choose a random image to experiment with. We will be using the same image for all the following experiments. Note: the results may change if the image is changed."
   ]
  },
  {
   "cell_type": "code",
   "execution_count": null,
   "metadata": {},
   "outputs": [],
   "source": [
    "import numpy as np\n",
    "import pickle\n",
    "from tqdm import tqdm, tqdm_notebook\n",
    "import random\n",
    "import time\n",
    "from sklearn.manifold import TSNE\n",
    "from sklearn.decomposition import PCA\n",
    "import PIL\n",
    "from PIL import Image\n",
    "from sklearn.neighbors import NearestNeighbors\n",
    "\n",
    "import glob\n",
    "import matplotlib\n",
    "import matplotlib.pyplot as plt\n",
    "import matplotlib.image as mpimg\n",
    "%matplotlib inline"
   ]
  },
  {
   "cell_type": "code",
   "execution_count": null,
   "metadata": {},
   "outputs": [],
   "source": [
    "filenames = pickle.load(open('data/filenames-caltech101.pickle', 'rb'))\n",
    "feature_list = pickle.load(open('data/features-caltech101-resnet.pickle',\n",
    "                                'rb'))\n",
    "class_ids = pickle.load(open('data/class_ids-caltech101.pickle', 'rb'))"
   ]
  },
  {
   "cell_type": "code",
   "execution_count": null,
   "metadata": {},
   "outputs": [],
   "source": [
    "num_images = len(filenames)\n",
    "num_features_per_image = len(feature_list[0])\n",
    "print(\"Number of images = \", num_images)\n",
    "print(\"Number of features per image = \", num_features_per_image)"
   ]
  },
  {
   "cell_type": "code",
   "execution_count": null,
   "metadata": {},
   "outputs": [],
   "source": [
    "random_image_index = random.randint(0, num_images)"
   ]
  },
  {
   "cell_type": "markdown",
   "metadata": {},
   "source": [
    "### Standard features\n",
    "\n",
    "The following experiments are based on the ResNet-50 features derived from the images of the Caltech101 dataset. \n",
    "\n",
    "### Standard features + Brute Force Algorithm on one image\n",
    "\n",
    "We will be timing the indexing for various Nearest Neighbors algorithms, so let's start with timing the indexing for the Brute force algorithm. While running terminal commands in iPython like the `timeit` command, the variables are not stored in memory, so we need to rerun the same command to compute and store the results in the variable. "
   ]
  },
  {
   "cell_type": "code",
   "execution_count": null,
   "metadata": {},
   "outputs": [],
   "source": [
    "%timeit NearestNeighbors(n_neighbors=5, algorithm='brute', metric='euclidean').fit(feature_list)\n",
    "neighbors = NearestNeighbors(n_neighbors=5,\n",
    "                             algorithm='brute',\n",
    "                             metric='euclidean').fit(feature_list)"
   ]
  },
  {
   "cell_type": "markdown",
   "metadata": {},
   "source": [
    "Now, let's look at the time it takes to search for the nearest neighbors for the selected random image using the trained model with the Brute force algorithm."
   ]
  },
  {
   "cell_type": "code",
   "execution_count": null,
   "metadata": {},
   "outputs": [],
   "source": [
    "%timeit neighbors.kneighbors([feature_list[random_image_index]])"
   ]
  },
  {
   "cell_type": "markdown",
   "metadata": {},
   "source": [
    "###  Standard features + k-d Tree Algorithm  on one image\n",
    "\n",
    "Now let's turn our attention to the next nearest neighbors algorithm, the k-d tree. Let's time the indexing for the k-d tree algorithm."
   ]
  },
  {
   "cell_type": "code",
   "execution_count": null,
   "metadata": {},
   "outputs": [],
   "source": [
    "%timeit NearestNeighbors(n_neighbors=5, algorithm='kd_tree').fit(feature_list)\n",
    "neighbors = NearestNeighbors(n_neighbors=5,\n",
    "                             algorithm='kd_tree').fit(feature_list)"
   ]
  },
  {
   "cell_type": "markdown",
   "metadata": {},
   "source": [
    "Now, time the search for the same random image using the k-d tree trained model."
   ]
  },
  {
   "cell_type": "code",
   "execution_count": null,
   "metadata": {},
   "outputs": [],
   "source": [
    "%timeit neighbors.kneighbors([feature_list[random_image_index]])"
   ]
  },
  {
   "cell_type": "markdown",
   "metadata": {},
   "source": [
    "###  Standard features + Ball Tree Algorithm  on one image\n",
    "\n",
    "Finally, its time for our last nearest neighbors algorithm - the Ball Tree algorithm. As before, let's calculate the time it takes to train the model."
   ]
  },
  {
   "cell_type": "code",
   "execution_count": null,
   "metadata": {},
   "outputs": [],
   "source": [
    "%timeit NearestNeighbors(n_neighbors=5, algorithm='ball_tree').fit(feature_list)\n",
    "neighbors = NearestNeighbors(n_neighbors=5,\n",
    "                             algorithm='ball_tree').fit(feature_list)"
   ]
  },
  {
   "cell_type": "markdown",
   "metadata": {},
   "source": [
    "As before, let's time the search for the Ball Tree model."
   ]
  },
  {
   "cell_type": "code",
   "execution_count": null,
   "metadata": {},
   "outputs": [],
   "source": [
    "%timeit neighbors.kneighbors([feature_list[random_image_index]])"
   ]
  },
  {
   "cell_type": "markdown",
   "metadata": {},
   "source": [
    "We will increase the number of our test images so that we can experiment with how the scalability of different nearest neighbors algorithms change. Let's choose a random set of 100 or 1000 images to experiment. \n",
    "\n",
    "Note: the results may change if any of the images are changed"
   ]
  },
  {
   "cell_type": "markdown",
   "metadata": {},
   "source": [
    "Generate a list of images to do the next set of experiments on."
   ]
  },
  {
   "cell_type": "code",
   "execution_count": null,
   "metadata": {},
   "outputs": [],
   "source": [
    "random_image_indices = random.sample(range(0, num_images), 1000)\n",
    "random_feature_list = [\n",
    "    feature_list[each_index] for each_index in random_image_indices\n",
    "]"
   ]
  },
  {
   "cell_type": "markdown",
   "metadata": {},
   "source": [
    "### Standard features + Brute Force Algorithm on a set of images\n",
    "\n",
    "Time the search for the Brute force algorithm."
   ]
  },
  {
   "cell_type": "code",
   "execution_count": null,
   "metadata": {},
   "outputs": [],
   "source": [
    "neighbors = NearestNeighbors(n_neighbors=5,\n",
    "                             algorithm='brute',\n",
    "                             metric='euclidean').fit(feature_list)\n",
    "%timeit neighbors.kneighbors(random_feature_list)"
   ]
  },
  {
   "cell_type": "markdown",
   "metadata": {},
   "source": [
    "### Standard features +  k-d Tree Algorithm on a set of images\n",
    "\n",
    "Time the search for the k-d tree algorithm."
   ]
  },
  {
   "cell_type": "code",
   "execution_count": null,
   "metadata": {},
   "outputs": [],
   "source": [
    "neighbors = NearestNeighbors(n_neighbors=5,\n",
    "                             algorithm='kd_tree').fit(feature_list)\n",
    "%timeit neighbors.kneighbors(random_feature_list)"
   ]
  },
  {
   "cell_type": "markdown",
   "metadata": {},
   "source": [
    "### Standard features +  Ball Tree Algorithm on a set of images\n",
    "\n",
    "Time the search for the Ball Tree algorithm."
   ]
  },
  {
   "cell_type": "code",
   "execution_count": null,
   "metadata": {},
   "outputs": [],
   "source": [
    "neighbors = NearestNeighbors(n_neighbors=5,\n",
    "                             algorithm='ball_tree').fit(feature_list)\n",
    "%timeit neighbors.kneighbors(random_feature_list)"
   ]
  },
  {
   "cell_type": "markdown",
   "metadata": {},
   "source": [
    "### PCA\n",
    "\n",
    "Now we have seen the time it takes to index and search using nearest neighbor algorithms on the full feature length. We can use PCA to compress the features and reduce the time. As before we set the number of features intended."
   ]
  },
  {
   "cell_type": "code",
   "execution_count": null,
   "metadata": {},
   "outputs": [],
   "source": [
    "num_feature_dimensions = 100\n",
    "num_feature_dimensions = min(num_images, num_feature_dimensions,\n",
    "                             len(feature_list[0]))"
   ]
  },
  {
   "cell_type": "markdown",
   "metadata": {},
   "source": [
    "Train the PCA model with the number of desired feature dimensions."
   ]
  },
  {
   "cell_type": "code",
   "execution_count": null,
   "metadata": {},
   "outputs": [],
   "source": [
    "pca = PCA(n_components=num_feature_dimensions)\n",
    "pca.fit(feature_list)\n",
    "feature_list_compressed = pca.transform(feature_list)\n",
    "feature_list_compressed = feature_list_compressed.tolist()"
   ]
  },
  {
   "cell_type": "markdown",
   "metadata": {},
   "source": [
    "Let's try to understand the importance of each of the resultant features. The numbers displayed below show the relative importance of the first 20 features."
   ]
  },
  {
   "cell_type": "code",
   "execution_count": null,
   "metadata": {},
   "outputs": [],
   "source": [
    "print(pca.explained_variance_ratio_[0:20])"
   ]
  },
  {
   "cell_type": "markdown",
   "metadata": {},
   "source": [
    "Repeat the timing experiments. We use the same random image to experiment.\n",
    "Note: the results may change if the image is changed."
   ]
  },
  {
   "cell_type": "markdown",
   "metadata": {},
   "source": [
    "### PCA + Brute Force Algorithm on one image\n",
    "\n",
    "Let's time the indexing for the brute force algorithm."
   ]
  },
  {
   "cell_type": "code",
   "execution_count": null,
   "metadata": {},
   "outputs": [],
   "source": [
    "%timeit NearestNeighbors(n_neighbors=5, algorithm='brute', metric='euclidean').fit(feature_list_compressed)\n",
    "neighbors = NearestNeighbors(n_neighbors=5,\n",
    "                             algorithm='brute',\n",
    "                             metric='euclidean').fit(feature_list_compressed)"
   ]
  },
  {
   "cell_type": "markdown",
   "metadata": {},
   "source": [
    "We will now time the search for the brute force algorithm."
   ]
  },
  {
   "cell_type": "code",
   "execution_count": null,
   "metadata": {
    "scrolled": false
   },
   "outputs": [],
   "source": [
    "%timeit neighbors.kneighbors([feature_list_compressed[random_image_index]])"
   ]
  },
  {
   "cell_type": "markdown",
   "metadata": {},
   "source": [
    "###  PCA + k-d Tree Algorithm  on one image\n",
    "\n",
    "Time the indexing for the k-d tree algorithm."
   ]
  },
  {
   "cell_type": "code",
   "execution_count": null,
   "metadata": {},
   "outputs": [],
   "source": [
    "%timeit NearestNeighbors(n_neighbors=5, algorithm='kd_tree').fit(feature_list_compressed)\n",
    "neighbors = NearestNeighbors(n_neighbors=5,\n",
    "                             algorithm='kd_tree').fit(feature_list_compressed)"
   ]
  },
  {
   "cell_type": "markdown",
   "metadata": {},
   "source": [
    "Time the search for the k-d tree algorithm."
   ]
  },
  {
   "cell_type": "code",
   "execution_count": null,
   "metadata": {},
   "outputs": [],
   "source": [
    "%timeit neighbors.kneighbors([feature_list_compressed[random_image_index]])"
   ]
  },
  {
   "cell_type": "markdown",
   "metadata": {},
   "source": [
    "###  PCA + Ball Tree Algorithm  on one image\n",
    "\n",
    "Time the indexing for the ball tree algorithm."
   ]
  },
  {
   "cell_type": "code",
   "execution_count": null,
   "metadata": {},
   "outputs": [],
   "source": [
    "%timeit NearestNeighbors(n_neighbors=5, algorithm='ball_tree').fit(feature_list_compressed)\n",
    "neighbors = NearestNeighbors(\n",
    "    n_neighbors=5, algorithm='ball_tree').fit(feature_list_compressed)"
   ]
  },
  {
   "cell_type": "markdown",
   "metadata": {},
   "source": [
    "Time the search for the ball tree algorithm."
   ]
  },
  {
   "cell_type": "code",
   "execution_count": null,
   "metadata": {},
   "outputs": [],
   "source": [
    "%timeit neighbors.kneighbors([feature_list_compressed[random_image_index]])"
   ]
  },
  {
   "cell_type": "markdown",
   "metadata": {},
   "source": [
    "We use the same random indices to experiment. Note: the results may change if any of the images are changed.\n",
    "\n",
    "Generate a list of images to do the next set of experiments on."
   ]
  },
  {
   "cell_type": "code",
   "execution_count": null,
   "metadata": {},
   "outputs": [],
   "source": [
    "random_feature_list_compressed = [\n",
    "    feature_list_compressed[each_index] for each_index in random_image_indices\n",
    "]"
   ]
  },
  {
   "cell_type": "markdown",
   "metadata": {},
   "source": [
    "### PCA + Brute Force Algorithm on a set of images\n",
    "\n",
    "Time the search for the brute force algorithm."
   ]
  },
  {
   "cell_type": "code",
   "execution_count": null,
   "metadata": {},
   "outputs": [],
   "source": [
    "neighbors = NearestNeighbors(n_neighbors=5,\n",
    "                             algorithm='brute',\n",
    "                             metric='euclidean').fit(feature_list_compressed)\n",
    "%timeit neighbors.kneighbors(random_feature_list_compressed)"
   ]
  },
  {
   "cell_type": "markdown",
   "metadata": {},
   "source": [
    "### PCA + k-d Tree Algorithm on a set of images\n",
    "\n",
    "Time the search for the k-d tree algorithm."
   ]
  },
  {
   "cell_type": "code",
   "execution_count": null,
   "metadata": {},
   "outputs": [],
   "source": [
    "neighbors = NearestNeighbors(n_neighbors=5,\n",
    "                             algorithm='kd_tree').fit(feature_list_compressed)\n",
    "%timeit neighbors.kneighbors(random_feature_list_compressed)"
   ]
  },
  {
   "cell_type": "markdown",
   "metadata": {},
   "source": [
    "### PCA + Ball Tree Algorithm on a set of images\n",
    "\n",
    "Time the search for the Ball Tree algorithm."
   ]
  },
  {
   "cell_type": "code",
   "execution_count": null,
   "metadata": {},
   "outputs": [],
   "source": [
    "neighbors = NearestNeighbors(\n",
    "    n_neighbors=5, algorithm='ball_tree').fit(feature_list_compressed)\n",
    "%timeit neighbors.kneighbors(random_feature_list_compressed)"
   ]
  },
  {
   "cell_type": "markdown",
   "metadata": {},
   "source": [
    "### Annoy \n",
    "\n",
    "Make sure you have `annoy` installed. You can install it using pip, `pip3 install annoy`."
   ]
  },
  {
   "cell_type": "code",
   "execution_count": null,
   "metadata": {},
   "outputs": [],
   "source": [
    "from annoy import AnnoyIndex"
   ]
  },
  {
   "cell_type": "code",
   "execution_count": null,
   "metadata": {},
   "outputs": [],
   "source": [
    "# Time the indexing for Annoy\n",
    "t = AnnoyIndex(2048)  # Length of item vector that will be indexed\n",
    "starttime = time.time()\n",
    "for i in range(num_images):\n",
    "    feature = feature_list[i]\n",
    "    t.add_item(i, feature)\n",
    "endtime = time.time()\n",
    "print(endtime - starttime)\n",
    "t.build(40)  # 50 trees\n",
    "t.save('data/caltech101index.ann')"
   ]
  },
  {
   "cell_type": "markdown",
   "metadata": {},
   "source": [
    "### Annoy on one image \n",
    "\n",
    "Time the search for one image for Annoy."
   ]
  },
  {
   "cell_type": "code",
   "execution_count": null,
   "metadata": {},
   "outputs": [],
   "source": [
    "u = AnnoyIndex(2048)\n",
    "%timeit u.get_nns_by_vector(feature_list[random_image_index], 5, include_distances=True)\n",
    "indexes = u.get_nns_by_vector(feature_list[random_image_index],\n",
    "                              5,\n",
    "                              include_distances=True)"
   ]
  },
  {
   "cell_type": "markdown",
   "metadata": {},
   "source": [
    "Helper function to time the search for multiple images for Annoy. Perform the search for the same image multiple times to get an average value.\n"
   ]
  },
  {
   "cell_type": "code",
   "execution_count": null,
   "metadata": {},
   "outputs": [],
   "source": [
    "def calculate_annoy_time():\n",
    "    for i in range(0, 100):\n",
    "        indexes = u.get_nns_by_vector(feature_list[random_image_index],\n",
    "                                      5,\n",
    "                                      include_distances=True)"
   ]
  },
  {
   "cell_type": "markdown",
   "metadata": {},
   "source": [
    "### Annoy on a set of images\n",
    "\n",
    "Time the search for multiple images for Annoy."
   ]
  },
  {
   "cell_type": "code",
   "execution_count": null,
   "metadata": {},
   "outputs": [],
   "source": [
    "%time calculate_annoy_time()"
   ]
  },
  {
   "cell_type": "markdown",
   "metadata": {},
   "source": [
    "### PCA + Annoy\n",
    "\n",
    "Now, let's time the indexing for Annoy for the PCA generated features."
   ]
  },
  {
   "cell_type": "code",
   "execution_count": null,
   "metadata": {},
   "outputs": [],
   "source": [
    "starttime = time.time()\n",
    "# Length of item vector that will be indexed\n",
    "t = AnnoyIndex(num_feature_dimensions)\n",
    "\n",
    "for i in range(num_images):\n",
    "    feature = feature_list_compressed[i]\n",
    "    t.add_item(i, feature)\n",
    "endtime = time.time()\n",
    "print(endtime - starttime)\n",
    "t.build(40)  # 50 trees\n",
    "t.save('data/caltech101index.ann')"
   ]
  },
  {
   "cell_type": "markdown",
   "metadata": {},
   "source": [
    "### PCA + Annoy for one image\n",
    "\n",
    "Time the search for one image for Annoy."
   ]
  },
  {
   "cell_type": "code",
   "execution_count": null,
   "metadata": {},
   "outputs": [],
   "source": [
    "u = AnnoyIndex(num_feature_dimensions)\n",
    "%timeit u.get_nns_by_vector(feature_list_compressed[random_image_index], 5, include_distances=True)\n",
    "indexes = u.get_nns_by_vector(feature_list_compressed[random_image_index],\n",
    "                              5,\n",
    "                              include_distances=True)"
   ]
  },
  {
   "cell_type": "markdown",
   "metadata": {},
   "source": [
    "Helper function to time the search for multiple images for Annoy. Perform the search for the same image multiple times to get an average value.\n"
   ]
  },
  {
   "cell_type": "code",
   "execution_count": null,
   "metadata": {},
   "outputs": [],
   "source": [
    "def calculate_annoy_time():\n",
    "    for i in range(0, 100):\n",
    "        indexes = u.get_nns_by_vector(\n",
    "            feature_list_compressed[random_image_index],\n",
    "            5,\n",
    "            include_distances=True)"
   ]
  },
  {
   "cell_type": "markdown",
   "metadata": {},
   "source": [
    "### PCA + Annoy on a set of images\n",
    "\n",
    "Time the search for multiple images for Annoy."
   ]
  },
  {
   "cell_type": "code",
   "execution_count": null,
   "metadata": {},
   "outputs": [],
   "source": [
    "%time calculate_annoy_time()"
   ]
  },
  {
   "cell_type": "markdown",
   "metadata": {},
   "source": [
    "### NMS Lib"
   ]
  },
  {
   "cell_type": "code",
   "execution_count": null,
   "metadata": {},
   "outputs": [],
   "source": [
    "import nmslib"
   ]
  },
  {
   "cell_type": "code",
   "execution_count": null,
   "metadata": {},
   "outputs": [],
   "source": [
    "index = nmslib.init(method='hnsw', space='cosinesimil')\n",
    "index.addDataPointBatch(feature_list_compressed)\n",
    "index.createIndex({'post': 2}, print_progress=True)"
   ]
  },
  {
   "cell_type": "markdown",
   "metadata": {},
   "source": [
    "### NMS Lib on one image"
   ]
  },
  {
   "cell_type": "code",
   "execution_count": null,
   "metadata": {},
   "outputs": [],
   "source": [
    "# Query for the nearest neighbors of the first datapoint\n",
    "%timeit index.knnQuery(feature_list_compressed[random_image_index], k=5)\n",
    "ids, distances = index.knnQuery(feature_list_compressed[random_image_index],\n",
    "                                k=5)"
   ]
  },
  {
   "cell_type": "markdown",
   "metadata": {},
   "source": [
    "### NMS Lib on a set of images"
   ]
  },
  {
   "cell_type": "code",
   "execution_count": null,
   "metadata": {},
   "outputs": [],
   "source": [
    "# Get all nearest neighbors for all the datapoint\n",
    "# using a pool of 4 threads to compute\n",
    "%timeit index.knnQueryBatch(feature_list_compressed, k=5, num_threads=16)\n",
    "neighbors = index.knnQueryBatch(feature_list_compressed, k=5, num_threads=16)"
   ]
  },
  {
   "cell_type": "markdown",
   "metadata": {},
   "source": [
    "### Falconn\n"
   ]
  },
  {
   "cell_type": "code",
   "execution_count": null,
   "metadata": {},
   "outputs": [],
   "source": [
    "import falconn"
   ]
  },
  {
   "cell_type": "code",
   "execution_count": null,
   "metadata": {},
   "outputs": [],
   "source": [
    "# Setup different parameters for Falonn\n",
    "parameters = falconn.LSHConstructionParameters()\n",
    "num_tables = 1\n",
    "parameters.l = num_tables\n",
    "parameters.dimension = num_feature_dimensions\n",
    "parameters.distance_function = falconn.DistanceFunction.EuclideanSquared\n",
    "parameters.lsh_family = falconn.LSHFamily.CrossPolytope\n",
    "parameters.num_rotations = 1\n",
    "parameters.num_setup_threads = 1\n",
    "parameters.storage_hash_table = falconn.StorageHashTable.BitPackedFlatHashTable\n",
    "\n",
    "# Train the Falconn model\n",
    "falconn.compute_number_of_hash_functions(16, parameters)"
   ]
  },
  {
   "cell_type": "markdown",
   "metadata": {},
   "source": [
    "### Falconn on a set of images"
   ]
  },
  {
   "cell_type": "code",
   "execution_count": null,
   "metadata": {},
   "outputs": [],
   "source": [
    "dataset = np.array(feature_list_compressed)\n",
    "a = np.random.randn(8677, 100)\n",
    "a /= np.linalg.norm(a, axis=1).reshape(-1, 1)\n",
    "dataset = a\n",
    "\n",
    "index = falconn.LSHIndex(parameters)\n",
    "%time index.setup(dataset)\n",
    "\n",
    "query_object = index.construct_query_object()\n",
    "num_probes = 1\n",
    "query_object.set_num_probes(num_probes)\n",
    "\n",
    "searchQuery = np.array(feature_list_compressed[random_image_index])\n",
    "searchQuery = a[0]\n",
    "%timeit query_object.find_k_nearest_neighbors(searchQuery, 5)"
   ]
  },
  {
   "cell_type": "markdown",
   "metadata": {},
   "source": [
    "### PCA + Annoy"
   ]
  },
  {
   "cell_type": "code",
   "execution_count": null,
   "metadata": {},
   "outputs": [],
   "source": [
    "# Time the indexing for Annoy for the PCA generated features\n",
    "starttime = time.time()\n",
    "# Length of item vector that will be indexed\n",
    "t = AnnoyIndex(num_feature_dimensions)\n",
    "\n",
    "for i in range(num_images):\n",
    "    feature = dataset[i]\n",
    "    t.add_item(i, feature)\n",
    "endtime = time.time()\n",
    "print(endtime - starttime)\n",
    "t.build(40)  # 50 trees\n",
    "t.save('data/caltech101index.ann')"
   ]
  },
  {
   "cell_type": "code",
   "execution_count": null,
   "metadata": {},
   "outputs": [],
   "source": [
    "u = AnnoyIndex(num_feature_dimensions)\n",
    "# Time the search for one image for Annoy\n",
    "%timeit u.get_nns_by_vector(dataset[random_image_index], 5, include_distances=True)\n",
    "indexes = u.get_nns_by_vector(dataset[random_image_index],\n",
    "                              5,\n",
    "                              include_distances=True)"
   ]
  },
  {
   "cell_type": "markdown",
   "metadata": {},
   "source": [
    "### Some benchmarks on different algorithms to see relative speeds\n",
    "\n",
    "These results lead to the benchmarking of time for indexing and searching on Caltech101. Repeating Level 2 on the Caltech256 features we can benchmark that as well. \n",
    "\n",
    "Benchmarking the different models on Caltech101. (Rounded to nearest integer)\n",
    "\n",
    "| Algorithm | Number of features indexed | Time to search 1 image (ms) | Time to search 100 images (ms)  | Time to search 1000 images (ms)  | Time to index (ms)    |\n",
    "|-------------|----------------------------|------------------------|---------------------------|---|---|---|\n",
    "| Brute force | 2048 | 14 | 38 | 240 | 22 | \n",
    "| k-d tree | 2048 | 16 | 2270 | 24100 | 1020    |\n",
    "| Ball tree | 2048 | 15 | 1690 | 17000 | 1090   |\n",
    "| PCA + brute force | 100 | 1 | 13 | 135 | 0.334   |\n",
    "| PCA + k-d tree | 100 | 1 | 77 | 801 | 20   |\n",
    "| PCA + ball tree | 100 | 1 | 80 | 761 |  23   |\n",
    "| Annoy | 2048 | 0.16 | 40    | 146 | 1420 |\n",
    "| PCA + Annoy | 100 | **.008** | **2.3**   | **20.3** | 109 | \n",
    "\n",
    "\n",
    "Benchmarking the different models on Caltech256. (Rounded to nearest integer)\n",
    "\n",
    "\n",
    "| Algorithm | Number of features indexed | Time to search 1 image (ms) | Time to search 100 images (ms)  | Time to search 1000 images (ms)  | Time to index (ms)    |\n",
    "|-------------|----------------------------|------------------------|---------------------------|---|---|---|\n",
    "| Brute force | 2048 |  16 | 135 |  747  | 23  | \n",
    "| k-d tree | 2048 |  15  | 7400  | 73000 |    4580 |\n",
    "| Ball tree | 2048 | 15 | 5940  | 59700 |   4750  |\n",
    "| PCA + brute force | 100 | 6.42  | 43.8  | 398  |  1.06   |\n",
    "| PCA + k-d tree | 100 |  6.46  | 530  | 5200  |  89.6  |\n",
    "| PCA + ball tree | 100 | 6.43  |  601 |  6000 |   104  |\n",
    "| Annoy | 2048 | .156  |  41.6  | 166  | 4642  |\n",
    "| PCA + Annoy | 100 | **.0076**  |   **2.68** | **23.8**  |  296 | "
   ]
  }
 ],
 "metadata": {
  "kernelspec": {
   "display_name": "Python 3",
   "language": "python",
   "name": "python3"
  },
  "language_info": {
   "codemirror_mode": {
    "name": "ipython",
    "version": 3
   },
   "file_extension": ".py",
   "mimetype": "text/x-python",
   "name": "python",
   "nbconvert_exporter": "python",
   "pygments_lexer": "ipython3",
   "version": "3.6.8"
  },
  "toc": {
   "base_numbering": 1,
   "nav_menu": {},
   "number_sections": true,
   "sideBar": true,
   "skip_h1_title": false,
   "title_cell": "Table of Contents",
   "title_sidebar": "Contents",
   "toc_cell": false,
   "toc_position": {},
   "toc_section_display": true,
   "toc_window_display": false
  }
 },
 "nbformat": 4,
 "nbformat_minor": 2
}
