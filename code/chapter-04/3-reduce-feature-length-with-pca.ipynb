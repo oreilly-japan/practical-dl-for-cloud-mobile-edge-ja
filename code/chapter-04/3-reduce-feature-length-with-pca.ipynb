{
 "cells": [
  {
   "cell_type": "markdown",
   "metadata": {},
   "source": [
    "<table class=\"tfo-notebook-buttons\" align=\"center\">\n",
    "  <td>\n",
    "    <a target=\"_blank\" href=\"https://colab.research.google.com/github/practicaldl/Practical-Deep-Learning-Book/blob/master/code/chapter-4/3-reduce-feature-length-with-pca.ipynb\"><img src=\"https://www.tensorflow.org/images/colab_logo_32px.png\" />Run in Google Colab</a>\n",
    "  </td>\n",
    "  <td>\n",
    "    <a target=\"_blank\" href=\"https://github.com/practicaldl/Practical-Deep-Learning-Book/blob/master/code/chapter-4/3-reduce-feature-length-with-pca.ipynb\"><img src=\"https://www.tensorflow.org/images/GitHub-Mark-32px.png\" />View source on GitHub</a>\n",
    "  </td>\n",
    "</table>\n",
    "\n",
    "This code is part of [Chapter 4 - Building a Reverse Image Search Engine: Understanding Embeddings](https://learning.oreilly.com/library/view/practical-deep-learning/9781492034858/ch04.html).\n",
    "\n",
    "Note: In order to run this notebook on Google Colab you need to [follow these instructions](https://colab.research.google.com/github/googlecolab/colabtools/blob/master/notebooks/colab-github-demo.ipynb#scrollTo=WzIRIt9d2huC) so that the local data such as the images are available in your Google Drive."
   ]
  },
  {
   "cell_type": "markdown",
   "metadata": {},
   "source": [
    "# Improving the speed of feature extraction and similarity search\n",
    "\n",
    "We will experiment with PCA and figure out what is the optimum length of the features to use in our experiments.\n",
    "\n",
    "## Reduce feature length with PCA\n",
    "\n",
    "PCA (short for Principal Component Analysis) is a statistical procedure that questions if features representing the data are equally important. Are some of the features redundant enough that we can get similar results on say classification even after removing those features? PCA is considered one of the go-to techniques for dimensionality reduction. Note that it does not eliminate redundant features, instead it generates a new set of features that are a linear combination of the input features. These linear features are orthogonal to each other, which is why all the redundant features are absent. These features are known as principal components. \n",
    "\n",
    "\n",
    "Performing PCA is pretty simple, using the scikit-learn library."
   ]
  },
  {
   "cell_type": "code",
   "execution_count": null,
   "metadata": {},
   "outputs": [],
   "source": [
    "import numpy as np\n",
    "import pickle\n",
    "from tqdm import tqdm, tqdm_notebook\n",
    "import random\n",
    "import time\n",
    "from sklearn.manifold import TSNE\n",
    "from sklearn.decomposition import PCA\n",
    "import PIL\n",
    "from PIL import Image\n",
    "from sklearn.neighbors import NearestNeighbors\n",
    "import random\n",
    "import glob\n",
    "\n",
    "import matplotlib\n",
    "import matplotlib.pyplot as plt\n",
    "import matplotlib.image as mpimg\n",
    "matplotlib.rcParams['savefig.dpi'] = 160\n",
    "matplotlib.rcParams['figure.dpi'] = 160\n",
    "%matplotlib notebook"
   ]
  },
  {
   "cell_type": "markdown",
   "metadata": {},
   "source": [
    "You can run the following code on either the Caltech101 or the Caltech256 dataset. Run either one of the following two blocks of code to load the desired dataset."
   ]
  },
  {
   "cell_type": "code",
   "execution_count": null,
   "metadata": {},
   "outputs": [],
   "source": [
    "filenames = pickle.load(open('data/filenames-caltech101.pickle', 'rb'))\n",
    "feature_list = pickle.load(open('data/features-caltech101-resnet.pickle',\n",
    "                                'rb'))\n",
    "class_ids = pickle.load(open('data/class_ids-caltech101.pickle', 'rb'))"
   ]
  },
  {
   "cell_type": "code",
   "execution_count": null,
   "metadata": {},
   "outputs": [],
   "source": [
    "'''\n",
    "filenames = pickle.load(open('data/filenames-caltech256.pickle', 'rb'))\n",
    "feature_list = pickle.load(open('data/features-caltech256-resnet-finetuned.pickle', 'rb'))\n",
    "class_ids = pickle.load(open('data/class_ids-caltech256.pickle', 'rb'))\n",
    "'''"
   ]
  },
  {
   "cell_type": "code",
   "execution_count": null,
   "metadata": {},
   "outputs": [],
   "source": [
    "num_images = len(filenames)\n",
    "num_features_per_image = len(feature_list[0])\n",
    "print(\"Number of images = \", num_images)\n",
    "print(\"Number of features per image = \", num_features_per_image)"
   ]
  },
  {
   "cell_type": "code",
   "execution_count": null,
   "metadata": {},
   "outputs": [],
   "source": [
    "# Helper function to get the classname\n",
    "def classname(str):\n",
    "    return str.split('/')[-2]\n",
    "\n",
    "\n",
    "# Helper function to get the classname and filename\n",
    "def classname_filename(str):\n",
    "    return str.split('/')[-2] + '/' + str.split('/')[-1]\n",
    "\n",
    "\n",
    "# Helper function that calculates accuracy using the nearest neighbors brute force algorithm\n",
    "def calculate_accuracy(feature_list):\n",
    "    num_nearest_neighbors = 5\n",
    "    correct_prediction = 0\n",
    "    incorrect_prediction = 0\n",
    "    neighbors = NearestNeighbors(n_neighbors=num_nearest_neighbors,\n",
    "                                 algorithm='brute',\n",
    "                                 metric='euclidean').fit(feature_list)\n",
    "    start = time.time()\n",
    "    for i in range(len(feature_list)):\n",
    "        distances, indices = neighbors.kneighbors([feature_list[i]])\n",
    "        for j in range(1, num_nearest_neighbors):\n",
    "            if (classname(filenames[i]) == classname(\n",
    "                    filenames[indices[0][j]])):\n",
    "                correct_prediction += 1\n",
    "            else:\n",
    "                incorrect_prediction += 1\n",
    "    end = time.time()\n",
    "    accuracy = round(\n",
    "        100.0 * correct_prediction /\n",
    "        (1.0 * correct_prediction + incorrect_prediction), 2), end - start\n",
    "    return accuracy"
   ]
  },
  {
   "cell_type": "code",
   "execution_count": null,
   "metadata": {},
   "outputs": [],
   "source": [
    "print(\"Accuracy on original feature set : \",\n",
    "      calculate_accuracy(feature_list[:]))"
   ]
  },
  {
   "cell_type": "code",
   "execution_count": null,
   "metadata": {
    "scrolled": false
   },
   "outputs": [],
   "source": [
    "pca_dimensions = [1, 2, 3, 4, 5, 10, 20, 50, 75, 100, 150, 200]\n",
    "pca_accuracy = []\n",
    "pca_time = []\n",
    "\n",
    "for dimensions in pca_dimensions:\n",
    "    pca = PCA(n_components=dimensions)\n",
    "    pca.fit(feature_list)\n",
    "    feature_list_compressed = pca.transform(feature_list[:])\n",
    "    # Calculate accuracy over the compressed features\n",
    "    accuracy, t = calculate_accuracy(feature_list_compressed[:])\n",
    "    pca_time.append(t)\n",
    "    pca_accuracy.append(accuracy)\n",
    "    print(\"For PCA Dimensions = \", dimensions, \",\\tAccuracy = \", accuracy, \"%\",\n",
    "          \",\\tTime = \", pca_time[-1])"
   ]
  },
  {
   "cell_type": "markdown",
   "metadata": {},
   "source": [
    "Let's plot the test time accuracy for each PCA dimension."
   ]
  },
  {
   "cell_type": "code",
   "execution_count": null,
   "metadata": {
    "scrolled": false
   },
   "outputs": [],
   "source": [
    "f = plt.figure()\n",
    "\n",
    "matplotlib.style.use('seaborn')\n",
    "plt.plot(pca_time, pca_accuracy, 'o--', markersize=5)\n",
    "for label, x, y in zip(pca_dimensions, pca_time, pca_accuracy):\n",
    "    plt.annotate(label, xy=(x, y), ha='right', va='bottom')\n",
    "plt.title('Test Time vs Accuracy for each PCA dimension')\n",
    "plt.xlabel('Test Time')\n",
    "plt.ylabel('Accuracy')\n",
    "plt.grid(True)\n",
    "plt.show()\n",
    "\n",
    "f.savefig(\"pca-test_time_vs_acc.pdf\", bbox_inches='tight')\n",
    "f.savefig(\"pca-test_time_vs_acc.png\", bbox_inches='tight')"
   ]
  },
  {
   "cell_type": "code",
   "execution_count": null,
   "metadata": {},
   "outputs": [],
   "source": [
    "f.savefig('pca-test_time_vs_acc.pdf', bbox_inches='tight')\n",
    "f.savefig('pca-test_time_vs_acc.png', transparent=False, bbox_inches='tight')"
   ]
  },
  {
   "cell_type": "markdown",
   "metadata": {},
   "source": [
    "As visible in the graph, there is little improvement in accuracy after increasing beyond feature length of 100 dimensions. With almost 20 times lesser dimensions (100) that the original (2048), this offers drastically higher speed and less time on almost any search algorithm, while getting similar (and sometimes slightly better) accuracy. Hence, 100 would be an ideal feature length for this dataset. This also means that the first 100 dimensions contain the most information about the dataset.\n",
    "\n",
    "\n",
    "Let's plot the variance of each PCA dimension."
   ]
  },
  {
   "cell_type": "code",
   "execution_count": null,
   "metadata": {},
   "outputs": [],
   "source": [
    "f = plt.figure()\n",
    "\n",
    "matplotlib.style.use('seaborn')\n",
    "plt.plot(range(1, 201), pca.explained_variance_ratio_, 'o--', markersize=3)\n",
    "plt.title('Variance vs number of PCA dimensions')\n",
    "plt.xlabel('PCA Dimension Count')\n",
    "plt.ylabel('Variance')\n",
    "plt.grid(True)\n",
    "plt.show()\n",
    "\n",
    "f.savefig(\"Variance vs number of PCA dimensions.pdf\", bbox_inches='tight')\n",
    "f.savefig(\"Variance vs number of PCA dimensions.png\", bbox_inches='tight')"
   ]
  },
  {
   "cell_type": "markdown",
   "metadata": {},
   "source": [
    "The individual variance will tell us how important the newly added features are. For example, after the first 100 dimensions, the additional dimensions don’t add much variance (almost equal to 0) and can be neglected. Without even checking the accuracy it is safe to assume that the PCA with 100 dimensions will be a  robust model. Another way to look at this is to visualize how much of the original data is explained by the limited number of features by finding the cumulative variance.\n",
    "\n",
    "### Cumulative Variance vs number of PCA dimensions."
   ]
  },
  {
   "cell_type": "code",
   "execution_count": null,
   "metadata": {},
   "outputs": [],
   "source": [
    "f = plt.figure()\n",
    "\n",
    "matplotlib.style.use('seaborn')\n",
    "plt.plot(range(1, 201),\n",
    "         pca.explained_variance_ratio_.cumsum(),\n",
    "         'o--',\n",
    "         markersize=3)\n",
    "plt.title('Cumulative Variance vs number of PCA dimensions')\n",
    "plt.xlabel('PCA Dimension Count')\n",
    "plt.ylabel('Cumulative Variance')\n",
    "plt.grid(True)\n",
    "plt.show()\n",
    "\n",
    "f.savefig(\"Cumulative Variance vs number of PCA dimensions.pdf\",\n",
    "          bbox_inches='tight')\n",
    "f.savefig(\"Cumulative Variance vs number of PCA dimensions.png\",\n",
    "          bbox_inches='tight')"
   ]
  },
  {
   "cell_type": "markdown",
   "metadata": {},
   "source": [
    "As expected adding 100 dimensions (from 100 to 200) adds only .1 variance and starts to gradually plateau. For reference, using full 2048 features would result in a cumulative variance of 1. \n",
    "\n",
    "\n",
    "### Plotting the effect of PCA dimension vs Classification Accuracy."
   ]
  },
  {
   "cell_type": "code",
   "execution_count": null,
   "metadata": {},
   "outputs": [],
   "source": [
    "f = plt.figure()\n",
    "\n",
    "matplotlib.style.use('seaborn')\n",
    "plt.plot(pca_dimensions, pca_accuracy, 'o--', markersize=4)\n",
    "plt.title('Effect of PCA dimension vs Classification Accuracy')\n",
    "plt.xlabel('PCA Dimensions')\n",
    "plt.ylabel('Accuracy')\n",
    "plt.grid(True)\n",
    "plt.show()\n",
    "\n",
    "f.savefig(\"Effect of PCA dimension vs Classification Accuracy.pdf\",\n",
    "          bbox_inches='tight')\n",
    "f.savefig(\"Effect of PCA dimension vs Classification Accuracy.png\",\n",
    "          bbox_inches='tight')"
   ]
  },
  {
   "cell_type": "markdown",
   "metadata": {},
   "source": [
    "As visible in the graph, there is little improvement in accuracy after increasing beyond feature length of 100 dimensions. With almost 20 times lesser dimensions (100) that the original (2048), this offers drastically higher speed and less time on almost any search algorithm, while getting similar (and sometimes slightly better) accuracy. Hence 100 would be an ideal feature length for this dataset."
   ]
  },
  {
   "cell_type": "markdown",
   "metadata": {},
   "source": [
    "We will now plot the effect of number of PCA dimensions vs time."
   ]
  },
  {
   "cell_type": "code",
   "execution_count": null,
   "metadata": {},
   "outputs": [],
   "source": [
    "f = plt.figure()\n",
    "\n",
    "matplotlib.style.use('seaborn')\n",
    "plt.plot(pca_dimensions, pca_time, 'o--', markersize=4)\n",
    "plt.title('Effect of PCA dimensions vs Time')\n",
    "plt.xlabel('PCA Dimension Count')\n",
    "plt.ylabel('Time')\n",
    "plt.grid(True)\n",
    "plt.show()\n",
    "\n",
    "f.savefig(\"Effect of PCA dimensions vs Time.pdf\", bbox_inches='tight')\n",
    "f.savefig(\"Effect of PCA dimensions vs Time.png\", bbox_inches='tight')"
   ]
  },
  {
   "cell_type": "markdown",
   "metadata": {},
   "source": [
    "Now let's compare different options available for similarity search"
   ]
  },
  {
   "cell_type": "code",
   "execution_count": null,
   "metadata": {},
   "outputs": [],
   "source": [
    "num_items = 100000\n",
    "num_dimensions = 100"
   ]
  },
  {
   "cell_type": "code",
   "execution_count": null,
   "metadata": {},
   "outputs": [],
   "source": [
    "dataset = np.random.randn(num_items, num_dimensions)\n",
    "dataset /= np.linalg.norm(dataset, axis=1).reshape(-1, 1)"
   ]
  },
  {
   "cell_type": "code",
   "execution_count": null,
   "metadata": {},
   "outputs": [],
   "source": [
    "randomIndex = random.randint(0, num_items)\n",
    "query = dataset[randomIndex]"
   ]
  },
  {
   "cell_type": "markdown",
   "metadata": {},
   "source": [
    "### Brute force"
   ]
  },
  {
   "cell_type": "code",
   "execution_count": null,
   "metadata": {},
   "outputs": [],
   "source": [
    "# Time the indexing for the brute force algorithm\n",
    "%timeit NearestNeighbors(n_neighbors=5, algorithm='brute', metric='euclidean').fit(dataset)"
   ]
  },
  {
   "cell_type": "code",
   "execution_count": null,
   "metadata": {},
   "outputs": [],
   "source": [
    "# Time the search for the brute force algorithm\n",
    "neighbors = NearestNeighbors(n_neighbors=5,\n",
    "                             algorithm='brute',\n",
    "                             metric='euclidean').fit(dataset)\n",
    "%timeit neighbors.kneighbors([query])"
   ]
  },
  {
   "cell_type": "markdown",
   "metadata": {},
   "source": [
    "### k-d Tree"
   ]
  },
  {
   "cell_type": "code",
   "execution_count": null,
   "metadata": {},
   "outputs": [],
   "source": [
    "# Time the indexing for the k-d tree algorithm\n",
    "%timeit NearestNeighbors(n_neighbors=5, algorithm='kd_tree').fit(dataset)"
   ]
  },
  {
   "cell_type": "code",
   "execution_count": null,
   "metadata": {},
   "outputs": [],
   "source": [
    "# Time the search for the k-d tree algorithm\n",
    "neighbors = NearestNeighbors(n_neighbors=5, algorithm='kd_tree').fit(dataset)\n",
    "%timeit neighbors.kneighbors([query])"
   ]
  },
  {
   "cell_type": "markdown",
   "metadata": {},
   "source": [
    "### Ball Tree"
   ]
  },
  {
   "cell_type": "code",
   "execution_count": null,
   "metadata": {},
   "outputs": [],
   "source": [
    "# Time the indexing for the Ball Tree algorithm\n",
    "%timeit NearestNeighbors(n_neighbors=5, algorithm='ball_tree').fit(dataset)"
   ]
  },
  {
   "cell_type": "code",
   "execution_count": null,
   "metadata": {},
   "outputs": [],
   "source": [
    "# Time the search for the Ball Tree algorithm\n",
    "neighbors = NearestNeighbors(n_neighbors=5, algorithm='ball_tree').fit(dataset)\n",
    "%timeit neighbors.kneighbors([query])"
   ]
  },
  {
   "cell_type": "code",
   "execution_count": null,
   "metadata": {},
   "outputs": [],
   "source": [
    "#!pip3 install annoy"
   ]
  },
  {
   "cell_type": "markdown",
   "metadata": {},
   "source": [
    "Now we have seen the time it takes to index and search using nearest neighbor algorithms on the full feature length. Now, We will use enhanced searching techniques like Faiss and Annoy to compress the features and reduce the time \n",
    "\n",
    "### Annoy\n",
    "\n",
    "Annoy (Approximate Nearest Neighbors Oh Yeah) is a C++ library with Python bindings for searching nearest neighbors. Synonymous with speed, it was released by Spotify and is used in production to serve their music recommendations. \n",
    "\n",
    "To use annoy, install it using pip:  `pip3 install annoy`"
   ]
  },
  {
   "cell_type": "code",
   "execution_count": null,
   "metadata": {},
   "outputs": [],
   "source": [
    "from annoy import AnnoyIndex"
   ]
  },
  {
   "cell_type": "code",
   "execution_count": null,
   "metadata": {},
   "outputs": [],
   "source": [
    "# Choose a random image to experiment\n",
    "random_image_index = random.randint(0, num_items)\n",
    "# Note: the results may change if the image is changed"
   ]
  },
  {
   "cell_type": "markdown",
   "metadata": {},
   "source": [
    "First, we build a search index with two hyperparameters - the number of dimensions of the dataset, and the number of trees. "
   ]
  },
  {
   "cell_type": "code",
   "execution_count": null,
   "metadata": {},
   "outputs": [],
   "source": [
    "annoy_index = AnnoyIndex(\n",
    "    num_dimensions)  # Length of item vector that will be indexed\n",
    "for i in range(num_items):\n",
    "    annoy_index.add_item(i, dataset[i])\n",
    "annoy_index.build(40)  #40 trees"
   ]
  },
  {
   "cell_type": "markdown",
   "metadata": {},
   "source": [
    "Now let’s find out the time it takes to search the 5 nearest neighbors of one image."
   ]
  },
  {
   "cell_type": "code",
   "execution_count": null,
   "metadata": {},
   "outputs": [],
   "source": [
    "#u = AnnoyIndex(num_dimensions)\n",
    "#Time the search for one image for Annoy\n",
    "%timeit annoy_index.get_nns_by_vector(query, 5, include_distances=True )"
   ]
  },
  {
   "cell_type": "markdown",
   "metadata": {},
   "source": [
    "Now THAT is blazing fast! To put this in perspective, for such a modestly sized dataset, this can serve almost 15000 requests on a single CPU core. Considering most CPUs have multiple cores, it should be able to handle 100K+ requests on a single system. The best part is that it lets you share the same index in memory between multiple processes. Hence, the biggest index can be equivalent to the size of your overall RAM, making it possible to serve multiple requests on a single system. \n",
    "\n",
    "Other benefits include that it generates a modestly sized index. Moreover, it decouples creating indexes from loading them, so you can create an index on one machine, pass it around and then on your serving machine, load it in memory and serve it. \n",
    "\n",
    "Let's time the indexing for different number of tree:"
   ]
  },
  {
   "cell_type": "code",
   "execution_count": null,
   "metadata": {},
   "outputs": [],
   "source": [
    "annoy_training_time = []\n",
    "annoy_test_time = []\n",
    "annoy_trees = [\n",
    "    1, 2, 3, 4, 5, 10, 20, 30, 40, 50, 60, 70, 80, 90, 100, 200, 300\n",
    "]\n",
    "for num_trees in annoy_trees:\n",
    "    t = AnnoyIndex(2048)  # Length of item vector that will be indexed\n",
    "    for i in range(num_images):\n",
    "        feature = feature_list[i]\n",
    "        t.add_item(i, feature)\n",
    "    start_time = time.time()\n",
    "    t.build(num_trees)  #50 trees\n",
    "    end_time = time.time()\n",
    "    annoy_training_time.append(end_time - start_time)\n",
    "    start_time = time.time()\n",
    "    indices = t.get_nns_by_vector(feature_list[random_image_index],\n",
    "                                  5,\n",
    "                                  include_distances=True)\n",
    "    end_time = time.time()\n",
    "    annoy_test_time.append(end_time - start_time)\n",
    "    print(\"For number of trees = \", num_trees, \",\\tTime to train = \",\n",
    "          annoy_training_time[-1], \",\\tTime to test = \", annoy_test_time[-1])"
   ]
  },
  {
   "cell_type": "markdown",
   "metadata": {},
   "source": [
    "### Effect of number of trees vs Training time"
   ]
  },
  {
   "cell_type": "code",
   "execution_count": null,
   "metadata": {},
   "outputs": [],
   "source": [
    "plt.plot(annoy_trees, annoy_training_time, 'or--')\n",
    "plt.title('Effect of number of trees vs Training time')\n",
    "plt.xlabel('Number of trees')\n",
    "plt.ylabel('Training Time')\n",
    "plt.grid(True)\n",
    "plt.show()"
   ]
  },
  {
   "cell_type": "markdown",
   "metadata": {},
   "source": [
    "### Effect of number of trees vs Test time"
   ]
  },
  {
   "cell_type": "code",
   "execution_count": null,
   "metadata": {},
   "outputs": [],
   "source": [
    "plt.plot(annoy_trees, annoy_test_time, 'or--')\n",
    "plt.title('Effect of number of trees vs Test time')\n",
    "plt.xlabel('Number of trees')\n",
    "plt.ylabel('Test Time')\n",
    "plt.grid(True)\n",
    "plt.show()"
   ]
  },
  {
   "cell_type": "markdown",
   "metadata": {},
   "source": [
    "### NMS Lib"
   ]
  },
  {
   "cell_type": "code",
   "execution_count": null,
   "metadata": {},
   "outputs": [],
   "source": [
    "import nmslib"
   ]
  },
  {
   "cell_type": "code",
   "execution_count": null,
   "metadata": {},
   "outputs": [],
   "source": [
    "index = nmslib.init(method='hnsw', space='cosinesimil')\n",
    "index.addDataPointBatch(dataset)\n",
    "index.createIndex({'post': 2}, print_progress=True)"
   ]
  },
  {
   "cell_type": "code",
   "execution_count": null,
   "metadata": {},
   "outputs": [],
   "source": [
    "# query for the nearest neighbors of the first datapoint\n",
    "%timeit index.knnQuery(query, k=5)\n",
    "ids, distances = index.knnQuery(query, k=5)"
   ]
  },
  {
   "cell_type": "code",
   "execution_count": null,
   "metadata": {},
   "outputs": [],
   "source": [
    "# Get all nearest neighbors for all the datapoint\n",
    "%timeit index.knnQueryBatch(dataset, k=5, num_threads=16)\n",
    "neighbors = index.knnQueryBatch(dataset, k=5, num_threads=16)"
   ]
  },
  {
   "cell_type": "markdown",
   "metadata": {},
   "source": [
    "### Falconn"
   ]
  },
  {
   "cell_type": "code",
   "execution_count": null,
   "metadata": {},
   "outputs": [],
   "source": [
    "import falconn"
   ]
  },
  {
   "cell_type": "code",
   "execution_count": null,
   "metadata": {},
   "outputs": [],
   "source": [
    "parameters = falconn.LSHConstructionParameters()\n",
    "num_tables = 1\n",
    "parameters.l = num_tables\n",
    "parameters.dimension = num_dimensions\n",
    "parameters.distance_function = falconn.DistanceFunction.EuclideanSquared\n",
    "parameters.lsh_family = falconn.LSHFamily.CrossPolytope\n",
    "parameters.num_rotations = 1\n",
    "parameters.num_setup_threads = 1\n",
    "parameters.storage_hash_table = falconn.StorageHashTable.BitPackedFlatHashTable\n",
    "falconn.compute_number_of_hash_functions(16, parameters)\n",
    "\n",
    "index = falconn.LSHIndex(parameters)\n",
    "%time index.setup(dataset)\n",
    "\n",
    "query_object = index.construct_query_object()\n",
    "num_probes = 1\n",
    "query_object.set_num_probes(num_probes)\n",
    "\n",
    "%timeit query_object.find_k_nearest_neighbors(query, 5)"
   ]
  },
  {
   "cell_type": "code",
   "execution_count": null,
   "metadata": {
    "scrolled": true
   },
   "outputs": [],
   "source": [
    "query = dataset[5000]\n",
    "print(query_object.find_k_nearest_neighbors(query, 5))"
   ]
  }
 ],
 "metadata": {
  "kernelspec": {
   "display_name": "Python 3",
   "language": "python",
   "name": "python3"
  },
  "language_info": {
   "codemirror_mode": {
    "name": "ipython",
    "version": 3
   },
   "file_extension": ".py",
   "mimetype": "text/x-python",
   "name": "python",
   "nbconvert_exporter": "python",
   "pygments_lexer": "ipython3",
   "version": "3.6.8"
  },
  "toc": {
   "base_numbering": 1,
   "nav_menu": {},
   "number_sections": true,
   "sideBar": true,
   "skip_h1_title": false,
   "title_cell": "Table of Contents",
   "title_sidebar": "Contents",
   "toc_cell": false,
   "toc_position": {},
   "toc_section_display": true,
   "toc_window_display": false
  }
 },
 "nbformat": 4,
 "nbformat_minor": 2
}
