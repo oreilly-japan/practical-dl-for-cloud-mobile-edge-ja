{
 "cells": [
  {
   "cell_type": "markdown",
   "metadata": {},
   "source": [
    "<table class=\"tfo-notebook-buttons\" align=\"center\">\n",
    "  <td>\n",
    "    <a target=\"_blank\" href=\"https://colab.research.google.com/github/practicaldl/Practical-Deep-Learning-Book/blob/master/code/chapter-4/2-similarity-search-level-3.ipynb\"><img src=\"https://www.tensorflow.org/images/colab_logo_32px.png\" />Run in Google Colab</a>\n",
    "  </td>\n",
    "  <td>\n",
    "    <a target=\"_blank\" href=\"https://github.com/practicaldl/Practical-Deep-Learning-Book/blob/master/code/chapter-4/2-similarity-search-level-3.ipynb\"><img src=\"https://www.tensorflow.org/images/GitHub-Mark-32px.png\" />View source on GitHub</a>\n",
    "  </td>\n",
    "</table>\n",
    "\n",
    "This code is part of [Chapter 4 - Building a Reverse Image Search Engine: Understanding Embeddings](https://learning.oreilly.com/library/view/practical-deep-learning/9781492034858/ch04.html).\n",
    "\n",
    "Note: In order to run this notebook on Google Colab you need to [follow these instructions](https://colab.research.google.com/github/googlecolab/colabtools/blob/master/notebooks/colab-github-demo.ipynb#scrollTo=WzIRIt9d2huC) so that the local data such as the images are available in your Google Drive."
   ]
  },
  {
   "cell_type": "markdown",
   "metadata": {},
   "source": [
    "# Similarity Search\n",
    "\n",
    "## Level 3\n",
    "\n",
    "So far we experimented with different visualization techniques on the results, t-SNE and PCA on the results. Now we will calculate the accuracies of the features obtained from the pretrained and finetuned models. The finetuning here follows the same finetuning technique we learnt in Chapter 2."
   ]
  },
  {
   "cell_type": "code",
   "execution_count": null,
   "metadata": {},
   "outputs": [],
   "source": [
    "import numpy as np\n",
    "import pickle\n",
    "from tqdm import tqdm, tqdm_notebook\n",
    "import random\n",
    "import time\n",
    "from sklearn.manifold import TSNE\n",
    "from sklearn.decomposition import PCA\n",
    "import PIL\n",
    "from PIL import Image\n",
    "from sklearn.neighbors import NearestNeighbors\n",
    "\n",
    "import glob\n",
    "import matplotlib\n",
    "import matplotlib.pyplot as plt\n",
    "import matplotlib.image as mpimg\n",
    "%matplotlib inline"
   ]
  },
  {
   "cell_type": "markdown",
   "metadata": {},
   "source": [
    "For these experiments we will use the same features of the Caltech101 dataset that we were using before.\n",
    "\n",
    "Let's utilize the features from the previously trained model."
   ]
  },
  {
   "cell_type": "code",
   "execution_count": null,
   "metadata": {},
   "outputs": [],
   "source": [
    "filenames = pickle.load(open('data/filenames-caltech101.pickle', 'rb'))\n",
    "feature_list = pickle.load(open('data/features-caltech101-resnet.pickle',\n",
    "                                'rb'))\n",
    "class_ids = pickle.load(open('data/class_ids-caltech101.pickle', 'rb'))\n",
    "\n",
    "num_images = len(filenames)\n",
    "num_features_per_image = len(feature_list[0])\n",
    "print(\"Number of images = \", num_images)\n",
    "print(\"Number of features per image = \", num_features_per_image)"
   ]
  },
  {
   "cell_type": "markdown",
   "metadata": {},
   "source": [
    "First, let's make a helper function that calculates the accuracy of the resultant features using the nearest neighbors brute force algorithm."
   ]
  },
  {
   "cell_type": "code",
   "execution_count": null,
   "metadata": {},
   "outputs": [],
   "source": [
    "# Helper function to get the classname\n",
    "def classname(str):\n",
    "    return str.split('/')[-2]\n",
    "\n",
    "\n",
    "# Helper function to get the classname and filename\n",
    "def classname_filename(str):\n",
    "    return str.split('/')[-2] + '/' + str.split('/')[-1]\n",
    "\n",
    "\n",
    "def calculate_accuracy(feature_list):\n",
    "    num_nearest_neighbors = 5\n",
    "    correct_predictions = 0\n",
    "    incorrect_predictions = 0\n",
    "    neighbors = NearestNeighbors(n_neighbors=num_nearest_neighbors,\n",
    "                                 algorithm='brute',\n",
    "                                 metric='euclidean').fit(feature_list)\n",
    "    for i in tqdm_notebook(range(len(feature_list))):\n",
    "        distances, indices = neighbors.kneighbors([feature_list[i]])\n",
    "        for j in range(1, num_nearest_neighbors):\n",
    "            if (classname(filenames[i]) == classname(\n",
    "                    filenames[indices[0][j]])):\n",
    "                correct_predictions += 1\n",
    "            else:\n",
    "                incorrect_predictions += 1\n",
    "    print(\n",
    "        \"Accuracy is \",\n",
    "        round(\n",
    "            100.0 * correct_predictions /\n",
    "            (1.0 * correct_predictions + incorrect_predictions), 2))"
   ]
  },
  {
   "cell_type": "markdown",
   "metadata": {},
   "source": [
    "### 1. Accuracy of Brute Force over Caltech101 features"
   ]
  },
  {
   "cell_type": "code",
   "execution_count": null,
   "metadata": {},
   "outputs": [],
   "source": [
    "# Calculate accuracy\n",
    "calculate_accuracy(feature_list[:])"
   ]
  },
  {
   "cell_type": "markdown",
   "metadata": {},
   "source": [
    "### 2. Accuracy of Brute Force over the PCA compressed Caltech101 features"
   ]
  },
  {
   "cell_type": "code",
   "execution_count": null,
   "metadata": {},
   "outputs": [],
   "source": [
    "num_feature_dimensions = 100\n",
    "pca = PCA(n_components=num_feature_dimensions)\n",
    "pca.fit(feature_list)\n",
    "feature_list_compressed = pca.transform(feature_list[:])"
   ]
  },
  {
   "cell_type": "markdown",
   "metadata": {},
   "source": [
    "Let's calculate accuracy over the compressed features."
   ]
  },
  {
   "cell_type": "code",
   "execution_count": null,
   "metadata": {
    "scrolled": true
   },
   "outputs": [],
   "source": [
    "calculate_accuracy(feature_list_compressed[:])"
   ]
  },
  {
   "cell_type": "markdown",
   "metadata": {},
   "source": [
    "### 3. Accuracy of Brute Force over the finetuned Caltech101 features"
   ]
  },
  {
   "cell_type": "code",
   "execution_count": null,
   "metadata": {},
   "outputs": [],
   "source": [
    "# Use the features from the finetuned model\n",
    "filenames = pickle.load(open('data/filenames-caltech101.pickle', 'rb'))\n",
    "feature_list = pickle.load(\n",
    "    open('data/features-caltech101-resnet-finetuned.pickle', 'rb'))\n",
    "class_ids = pickle.load(open('data/class_ids-caltech101.pickle', 'rb'))"
   ]
  },
  {
   "cell_type": "code",
   "execution_count": null,
   "metadata": {},
   "outputs": [],
   "source": [
    "num_images = len(filenames)\n",
    "num_features_per_image = len(feature_list[0])\n",
    "print(\"Number of images = \", num_images)\n",
    "print(\"Number of features per image = \", num_features_per_image)"
   ]
  },
  {
   "cell_type": "code",
   "execution_count": null,
   "metadata": {},
   "outputs": [],
   "source": [
    "# Calculate accuracy\n",
    "calculate_accuracy(feature_list[:])"
   ]
  },
  {
   "cell_type": "markdown",
   "metadata": {},
   "source": [
    "### 4. Accuracy of Brute Force over the PCA compressed finetuned Caltech101 features"
   ]
  },
  {
   "cell_type": "code",
   "execution_count": null,
   "metadata": {},
   "outputs": [],
   "source": [
    "# Perform PCA\n",
    "num_feature_dimensions = 100\n",
    "pca = PCA(n_components=num_feature_dimensions)\n",
    "pca.fit(feature_list)\n",
    "feature_list_compressed = pca.transform(feature_list[:])"
   ]
  },
  {
   "cell_type": "code",
   "execution_count": null,
   "metadata": {},
   "outputs": [],
   "source": [
    "# Calculate accuracy over the compressed features\n",
    "calculate_accuracy(feature_list_compressed[:])"
   ]
  },
  {
   "cell_type": "markdown",
   "metadata": {},
   "source": [
    "### Accuracy \n",
    "\n",
    "These results lead to the accuracy on Caltech101. Repeating Level 3 on the Caltech256 features we get its corresponding accuracy. \n",
    "\n",
    "Accuracy on Caltech101.\n",
    "\n",
    "| Algorithm | Accuracy using Pretrained features| Accuracy using Finetuned features | \n",
    "|-------------|----------------------------|------------------------|\n",
    "| Brute Force | 87.06 | 89.48 | \n",
    "| PCA + Brute Force | 87.65  |  89.39 |\n",
    "\n",
    "\n",
    "Accuracy on Caltech256.\n",
    "\n",
    "| Algorithm | Accuracy using Pretrained features| Accuracy using Finetuned features | \n",
    "|-------------|----------------------------|------------------------|\n",
    "| Brute Force | 58.38 | 96.01 | \n",
    "| PCA + Brute Force | 56.64  | 95.34|"
   ]
  }
 ],
 "metadata": {
  "kernelspec": {
   "display_name": "Python 3",
   "language": "python",
   "name": "python3"
  },
  "language_info": {
   "codemirror_mode": {
    "name": "ipython",
    "version": 3
   },
   "file_extension": ".py",
   "mimetype": "text/x-python",
   "name": "python",
   "nbconvert_exporter": "python",
   "pygments_lexer": "ipython3",
   "version": "3.6.8"
  },
  "toc": {
   "base_numbering": 1,
   "nav_menu": {},
   "number_sections": true,
   "sideBar": true,
   "skip_h1_title": false,
   "title_cell": "Table of Contents",
   "title_sidebar": "Contents",
   "toc_cell": false,
   "toc_position": {},
   "toc_section_display": true,
   "toc_window_display": false
  }
 },
 "nbformat": 4,
 "nbformat_minor": 2
}
