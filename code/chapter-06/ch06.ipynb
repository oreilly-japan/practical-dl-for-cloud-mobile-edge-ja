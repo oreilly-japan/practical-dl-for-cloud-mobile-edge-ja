{
  "nbformat": 4,
  "nbformat_minor": 0,
  "metadata": {
    "colab": {
      "name": "ch06.ipynb",
      "provenance": [],
      "collapsed_sections": [
        "VCFoUNxQN5-6",
        "yPgnpgvURYGU",
        "sNfGcloXRu8J"
      ]
    },
    "kernelspec": {
      "name": "python3",
      "display_name": "Python 3"
    },
    "language_info": {
      "name": "python"
    },
    "accelerator": "GPU"
  },
  "cells": [
    {
      "cell_type": "markdown",
      "metadata": {
        "id": "VCFoUNxQN5-6"
      },
      "source": [
        "## TensorFlow ProfilerとTensorBoard"
      ]
    },
    {
      "cell_type": "code",
      "metadata": {
        "colab": {
          "base_uri": "https://localhost:8080/"
        },
        "id": "yt62PUwdOmbN",
        "outputId": "7d5e6c2f-a399-4bb6-8c5e-f75dba6423e6"
      },
      "source": [
        "pip install -U tensorboard-plugin-profile"
      ],
      "execution_count": 1,
      "outputs": [
        {
          "output_type": "stream",
          "name": "stdout",
          "text": [
            "Requirement already satisfied: tensorboard-plugin-profile in /usr/local/lib/python3.7/dist-packages (2.5.0)\n",
            "Requirement already satisfied: werkzeug>=0.11.15 in /usr/local/lib/python3.7/dist-packages (from tensorboard-plugin-profile) (1.0.1)\n",
            "Requirement already satisfied: gviz-api>=1.9.0 in /usr/local/lib/python3.7/dist-packages (from tensorboard-plugin-profile) (1.10.0)\n",
            "Requirement already satisfied: six>=1.10.0 in /usr/local/lib/python3.7/dist-packages (from tensorboard-plugin-profile) (1.15.0)\n",
            "Requirement already satisfied: protobuf>=3.6.0 in /usr/local/lib/python3.7/dist-packages (from tensorboard-plugin-profile) (3.17.3)\n",
            "Requirement already satisfied: setuptools>=41.0.0 in /usr/local/lib/python3.7/dist-packages (from tensorboard-plugin-profile) (57.4.0)\n"
          ]
        }
      ]
    },
    {
      "cell_type": "code",
      "metadata": {
        "colab": {
          "base_uri": "https://localhost:8080/"
        },
        "id": "YxyXedriN2s7",
        "outputId": "b01b4603-fa73-4086-fb2c-f3d9903f4b85"
      },
      "source": [
        "import tensorflow as tf\n",
        "\n",
        "\n",
        "(x_train, y_train), (x_test, y_test) = tf.keras.datasets.cifar10.load_data()\n",
        "\n",
        "x_train = x_train/255.\n",
        "x_test = x_test/255.\n",
        "\n",
        "model = tf.keras.models.Sequential((\n",
        "    tf.keras.layers.Conv2D(32, 3, activation='relu'),\n",
        "    tf.keras.layers.MaxPool2D(2),\n",
        "    tf.keras.layers.Conv2D(64, 3, activation='relu'),\n",
        "    tf.keras.layers.MaxPool2D(2),\n",
        "    tf.keras.layers.Conv2D(128, 3, activation='relu'),\n",
        "    tf.keras.layers.MaxPool2D(2),\n",
        "    tf.keras.layers.Flatten(),\n",
        "    tf.keras.layers.Dense(128, activation='relu'),\n",
        "    tf.keras.layers.Dropout(0.3),\n",
        "    tf.keras.layers.Dense(10, activation='softmax')\n",
        "))\n",
        "\n",
        "model.compile(\n",
        "    loss='sparse_categorical_crossentropy',\n",
        "    optimizer='adam'\n",
        ")\n",
        "\n",
        "tensorboard_callback = tf.keras.callbacks.TensorBoard(log_dir=\"logs\", profile_batch=7)\n",
        "\n",
        "model.fit(x_train, y_train, epochs=2, callbacks=[tensorboard_callback])"
      ],
      "execution_count": 2,
      "outputs": [
        {
          "output_type": "stream",
          "name": "stdout",
          "text": [
            "Epoch 1/2\n",
            "1563/1563 [==============================] - 14s 8ms/step - loss: 1.5854\n",
            "Epoch 2/2\n",
            "1563/1563 [==============================] - 11s 7ms/step - loss: 1.2173\n"
          ]
        },
        {
          "output_type": "execute_result",
          "data": {
            "text/plain": [
              "<keras.callbacks.History at 0x7f5e50461a50>"
            ]
          },
          "metadata": {},
          "execution_count": 2
        }
      ]
    },
    {
      "cell_type": "markdown",
      "metadata": {
        "id": "DhEaA6xsPmCl"
      },
      "source": [
        "ローカルで実行している場合は、 `tensorboard` コマンドを実行してください。Google Colaboratory を利用している場合は、以下のコードで TensorBoeard を起動し、ノートブック内に表示できます。"
      ]
    },
    {
      "cell_type": "code",
      "metadata": {
        "colab": {
          "base_uri": "https://localhost:8080/",
          "height": 0
        },
        "id": "Z6RItwobN47s",
        "outputId": "a58f67a6-d7d2-4cb3-9075-4d398a4c2f40"
      },
      "source": [
        "%load_ext tensorboard\n",
        "%tensorboard --logdir logs"
      ],
      "execution_count": 3,
      "outputs": [
        {
          "output_type": "display_data",
          "data": {
            "text/plain": [
              "Reusing TensorBoard on port 6006 (pid 157), started 1:03:39 ago. (Use '!kill 157' to kill it.)"
            ]
          },
          "metadata": {}
        },
        {
          "output_type": "display_data",
          "data": {
            "application/javascript": [
              "\n",
              "        (async () => {\n",
              "            const url = new URL(await google.colab.kernel.proxyPort(6006, {'cache': true}));\n",
              "            url.searchParams.set('tensorboardColab', 'true');\n",
              "            const iframe = document.createElement('iframe');\n",
              "            iframe.src = url;\n",
              "            iframe.setAttribute('width', '100%');\n",
              "            iframe.setAttribute('height', '800');\n",
              "            iframe.setAttribute('frameborder', 0);\n",
              "            document.body.appendChild(iframe);\n",
              "        })();\n",
              "    "
            ],
            "text/plain": [
              "<IPython.core.display.Javascript object>"
            ]
          },
          "metadata": {}
        }
      ]
    },
    {
      "cell_type": "markdown",
      "metadata": {
        "id": "xy8GqPWqPU4F"
      },
      "source": [
        "## データの準備\n",
        "\n",
        "以下のコードは原著の[サンプルコード](https://github.com/PracticalDL/Practical-Deep-Learning-Book/blob/master/code/chapter-6/storing-data-as-tfrecord.ipynb)を日本語版に合わせて修正したものです。"
      ]
    },
    {
      "cell_type": "code",
      "metadata": {
        "colab": {
          "base_uri": "https://localhost:8080/"
        },
        "id": "LxP8ie8ZQcB2",
        "outputId": "310b118d-6355-4338-d06e-2b3f4d722eb9"
      },
      "source": [
        "# 画像ファイルをダウンロード\n",
        "!curl https://raw.githubusercontent.com/PracticalDL/Practical-Deep-Learning-Book/master/sample-images/cat.jpg --output cat.jpg"
      ],
      "execution_count": 4,
      "outputs": [
        {
          "output_type": "stream",
          "name": "stdout",
          "text": [
            "  % Total    % Received % Xferd  Average Speed   Time    Time     Time  Current\n",
            "                                 Dload  Upload   Total   Spent    Left  Speed\n",
            "\r  0     0    0     0    0     0      0      0 --:--:-- --:--:-- --:--:--     0\r100  661k  100  661k    0     0  2689k      0 --:--:-- --:--:-- --:--:-- 2689k\n"
          ]
        }
      ]
    },
    {
      "cell_type": "code",
      "metadata": {
        "id": "PG3tNecvPcme"
      },
      "source": [
        "import tensorflow as tf\n",
        "from PIL import Image\n",
        "import numpy as np\n",
        "import io\n",
        "\n",
        "cat = \"cat.jpg\"\n",
        "img_name_to_labels = {cat: 0}\n",
        "img_in_string = open(cat, 'rb').read()\n",
        "label_for_img = img_name_to_labels[cat]\n",
        "\n",
        "# 下記の関数を使うと値を tf.Example と互換性の有る型に変換できる\n",
        "\n",
        "def _bytes_feature(value):\n",
        "  \"\"\"string / byte 型から byte_list を返す\"\"\"\n",
        "  if isinstance(value, type(tf.constant(0))):\n",
        "    value = value.numpy() # BytesList won't unpack a string from an EagerTensor.\n",
        "  return tf.train.Feature(bytes_list=tf.train.BytesList(value=[value]))\n",
        "\n",
        "def _float_feature(value):\n",
        "  \"\"\"float / double 型から float_list を返す\"\"\"\n",
        "  return tf.train.Feature(float_list=tf.train.FloatList(value=[value]))\n",
        "\n",
        "def _int64_feature(value):\n",
        "  \"\"\"bool / enum / int / uint 型から Int64_list を返す\"\"\"\n",
        "  return tf.train.Feature(int64_list=tf.train.Int64List(value=[value]))\n",
        "\n",
        "\n",
        "def get_tfrecord(img, label):\n",
        " feature = {\n",
        "    'label': _int64_feature(label),\n",
        "    'image_raw': _bytes_feature(img),\n",
        " }\n",
        " return tf.train.Example(features=tf.train.Features(feature=feature))\n",
        "\n",
        "with tf.io.TFRecordWriter('img.tfrecord') as writer:\n",
        "  for filename, label in img_name_to_labels.items():\n",
        "    image_string = open(filename, 'rb').read()\n",
        "    tf_example = get_tfrecord(image_string, label)\n",
        "    writer.write(tf_example.SerializeToString())"
      ],
      "execution_count": 5,
      "outputs": []
    },
    {
      "cell_type": "code",
      "metadata": {
        "colab": {
          "base_uri": "https://localhost:8080/"
        },
        "id": "ZezbULapQ9m7",
        "outputId": "14654909-412e-4936-9226-f275382eb1e6"
      },
      "source": [
        "# img.tfrecord が生成されていることを確認\n",
        "!ls"
      ],
      "execution_count": 6,
      "outputs": [
        {
          "output_type": "stream",
          "name": "stdout",
          "text": [
            "cat.jpg  img.tfrecord  logs  sample_data  tmp.h5  training_data\n"
          ]
        }
      ]
    },
    {
      "cell_type": "code",
      "metadata": {
        "colab": {
          "base_uri": "https://localhost:8080/"
        },
        "id": "7X4ZNTo4RE2v",
        "outputId": "70549a18-f9e5-4f57-f56c-18a901f18a88"
      },
      "source": [
        "# TFRecordファイルの読み込み\n",
        "\n",
        "dataset = tf.data.TFRecordDataset('img.tfrecord')\n",
        "ground_truth_info = {\n",
        "  'label': tf.compat.v1.FixedLenFeature([], tf.int64),\n",
        "  'image_raw': tf.compat.v1.FixedLenFeature([], tf.string),\n",
        "}\n",
        "\n",
        "def map_operation(read_data):\n",
        "  return tf.compat.v1.parse_single_example(read_data, ground_truth_info)\n",
        "\n",
        "imgs = dataset.map(map_operation)\n",
        "\n",
        "for image_features in imgs:\n",
        "  image_raw = image_features['image_raw'].numpy()\n",
        "  label = image_features['label'].numpy()\n",
        "  image = Image.open(io.BytesIO(image_raw))\n",
        "  image.show()\n",
        "  print(label)"
      ],
      "execution_count": 7,
      "outputs": [
        {
          "output_type": "stream",
          "name": "stdout",
          "text": [
            "0\n"
          ]
        }
      ]
    },
    {
      "cell_type": "markdown",
      "metadata": {
        "id": "yPgnpgvURYGU"
      },
      "source": [
        "## TensorFlow Datasetsを利用する"
      ]
    },
    {
      "cell_type": "code",
      "metadata": {
        "colab": {
          "base_uri": "https://localhost:8080/"
        },
        "id": "BUQUcqrvRQiv",
        "outputId": "cc4fe796-4476-48e9-9d2b-757bd0ad98ff"
      },
      "source": [
        "import tensorflow_datasets as tfds\n",
        "\n",
        "# 利用可能なデータセットを表示します\n",
        "print(tfds.list_builders())"
      ],
      "execution_count": 8,
      "outputs": [
        {
          "output_type": "stream",
          "name": "stdout",
          "text": [
            "['abstract_reasoning', 'accentdb', 'aeslc', 'aflw2k3d', 'ag_news_subset', 'ai2_arc', 'ai2_arc_with_ir', 'amazon_us_reviews', 'anli', 'arc', 'bair_robot_pushing_small', 'bccd', 'beans', 'big_patent', 'bigearthnet', 'billsum', 'binarized_mnist', 'binary_alpha_digits', 'blimp', 'bool_q', 'c4', 'caltech101', 'caltech_birds2010', 'caltech_birds2011', 'cars196', 'cassava', 'cats_vs_dogs', 'celeb_a', 'celeb_a_hq', 'cfq', 'chexpert', 'cifar10', 'cifar100', 'cifar10_1', 'cifar10_corrupted', 'citrus_leaves', 'cityscapes', 'civil_comments', 'clevr', 'clic', 'clinc_oos', 'cmaterdb', 'cnn_dailymail', 'coco', 'coco_captions', 'coil100', 'colorectal_histology', 'colorectal_histology_large', 'common_voice', 'coqa', 'cos_e', 'cosmos_qa', 'covid19sum', 'crema_d', 'curated_breast_imaging_ddsm', 'cycle_gan', 'deep_weeds', 'definite_pronoun_resolution', 'dementiabank', 'diabetic_retinopathy_detection', 'div2k', 'dmlab', 'downsampled_imagenet', 'dsprites', 'dtd', 'duke_ultrasound', 'emnist', 'eraser_multi_rc', 'esnli', 'eurosat', 'fashion_mnist', 'flic', 'flores', 'food101', 'forest_fires', 'fuss', 'gap', 'geirhos_conflict_stimuli', 'genomics_ood', 'german_credit_numeric', 'gigaword', 'glue', 'goemotions', 'gpt3', 'groove', 'gtzan', 'gtzan_music_speech', 'hellaswag', 'higgs', 'horses_or_humans', 'i_naturalist2017', 'imagenet2012', 'imagenet2012_corrupted', 'imagenet2012_real', 'imagenet2012_subset', 'imagenet_a', 'imagenet_r', 'imagenet_resized', 'imagenet_v2', 'imagenette', 'imagewang', 'imdb_reviews', 'irc_disentanglement', 'iris', 'kitti', 'kmnist', 'lfw', 'librispeech', 'librispeech_lm', 'libritts', 'ljspeech', 'lm1b', 'lost_and_found', 'lsun', 'malaria', 'math_dataset', 'mctaco', 'mnist', 'mnist_corrupted', 'movie_lens', 'movie_rationales', 'movielens', 'moving_mnist', 'multi_news', 'multi_nli', 'multi_nli_mismatch', 'natural_questions', 'natural_questions_open', 'newsroom', 'nsynth', 'nyu_depth_v2', 'omniglot', 'open_images_challenge2019_detection', 'open_images_v4', 'openbookqa', 'opinion_abstracts', 'opinosis', 'opus', 'oxford_flowers102', 'oxford_iiit_pet', 'para_crawl', 'patch_camelyon', 'paws_wiki', 'paws_x_wiki', 'pet_finder', 'pg19', 'places365_small', 'plant_leaves', 'plant_village', 'plantae_k', 'qa4mre', 'qasc', 'quickdraw_bitmap', 'radon', 'reddit', 'reddit_disentanglement', 'reddit_tifu', 'resisc45', 'robonet', 'rock_paper_scissors', 'rock_you', 'salient_span_wikipedia', 'samsum', 'savee', 'scan', 'scene_parse150', 'scicite', 'scientific_papers', 'sentiment140', 'shapes3d', 'smallnorb', 'snli', 'so2sat', 'speech_commands', 'spoken_digit', 'squad', 'stanford_dogs', 'stanford_online_products', 'starcraft_video', 'stl10', 'sun397', 'super_glue', 'svhn_cropped', 'ted_hrlr_translate', 'ted_multi_translate', 'tedlium', 'tf_flowers', 'the300w_lp', 'tiny_shakespeare', 'titanic', 'trec', 'trivia_qa', 'tydi_qa', 'uc_merced', 'ucf101', 'vctk', 'vgg_face2', 'visual_domain_decathlon', 'voc', 'voxceleb', 'voxforge', 'waymo_open_dataset', 'web_questions', 'wider_face', 'wiki40b', 'wikihow', 'wikipedia', 'wikipedia_toxicity_subtypes', 'wine_quality', 'winogrande', 'wmt14_translate', 'wmt15_translate', 'wmt16_translate', 'wmt17_translate', 'wmt18_translate', 'wmt19_translate', 'wmt_t2t_translate', 'wmt_translate', 'wordnet', 'xnli', 'xquad', 'xsum', 'yelp_polarity_reviews', 'yes_no']\n"
          ]
        }
      ]
    },
    {
      "cell_type": "code",
      "metadata": {
        "id": "7cBkBgxaRhGR"
      },
      "source": [
        "train_dataset = tfds.load(name=\"cifar100\", split=tfds.Split.TRAIN)\n",
        "train_dataset = train_dataset.shuffle(2048).batch(64)"
      ],
      "execution_count": 9,
      "outputs": []
    },
    {
      "cell_type": "markdown",
      "metadata": {
        "id": "sNfGcloXRu8J"
      },
      "source": [
        "## tf.data を利用する\n",
        "\n",
        "以下のコードを実行するには、`training_data` ディレクトリ以下に訓練データセットが保存されている必要があります。ここでは、 **TensorFlow Datasetsを利用する** でダウンロードした cifar100 データセットを用います"
      ]
    },
    {
      "cell_type": "code",
      "metadata": {
        "id": "kQmVi33RTNWW"
      },
      "source": [
        "# ダウンロードした cifar100 データセットから tfrecord をコピーする\n",
        "!mkdir -p training_data\n",
        "!cp ~/tensorflow_datasets/cifar100/*/cifar100-train.tfrecord* training_data/cifar100-train.tfrecord"
      ],
      "execution_count": 10,
      "outputs": []
    },
    {
      "cell_type": "code",
      "metadata": {
        "id": "UZKLXnD5yB1R"
      },
      "source": [
        "features = {\n",
        "    'image': tf.io.FixedLenFeature([], tf.string),\n",
        "    'label': tf.io.FixedLenFeature([], tf.int64)\n",
        "}\n",
        "\n",
        "def preprocess(example):\n",
        "    data = tf.io.parse_single_example(example, features=features)\n",
        "    image = data['image']\n",
        "    label = data['label']\n",
        "\n",
        "    # image は正規化する\n",
        "    image = tf.cast(image, tf.float32)\n",
        "    image /= 255.\n",
        "\n",
        "    return image, label"
      ],
      "execution_count": 11,
      "outputs": []
    },
    {
      "cell_type": "code",
      "metadata": {
        "id": "JUgGGCwRzk3_"
      },
      "source": [
        "files = tf.data.Dataset.list_files(\"./training_data/*.tfrecord\")\n",
        "dataset = tf.data.TFRecordDataset(files)\n",
        "\n",
        "dataset = dataset.shuffle(2048) \\\n",
        "                 .repeat() \\\n",
        "                 .map(preprocess) \\\n",
        "                 .batch(64)"
      ],
      "execution_count": 12,
      "outputs": []
    },
    {
      "cell_type": "code",
      "metadata": {
        "id": "83EkhUi1Rt4k"
      },
      "source": [
        "options = tf.data.Options()\n",
        "options.experimental_deterministic = False\n",
        "# options.experimental_optimization.filter_fusion = True\n",
        "# options.experimental_optimization.map_and_filter_fusion = True\n",
        "# options.experimental_optimization.map_fusion = True\n",
        "\n",
        "dataset = tf.data.Dataset.list_files(\"./training_data/*.tfrecord\")\n",
        "dataset = dataset.with_options(options)\n",
        "dataset = files.interleave(tf.data.TFRecordDataset,\n",
        "                            num_parallel_calls=tf.data.AUTOTUNE)\n",
        "dataset = dataset.map(preprocess,\n",
        "                            num_parallel_calls=tf.data.AUTOTUNE)\n",
        "dataset = dataset.cache() \n",
        "dataset = dataset.repeat() \n",
        "dataset = dataset.shuffle(2048)\n",
        "dataset = dataset.batch(batch_size=64) \n",
        "dataset = dataset.prefetch(buffer_size=tf.data.AUTOTUNE)"
      ],
      "execution_count": 13,
      "outputs": []
    },
    {
      "cell_type": "markdown",
      "metadata": {
        "id": "DKcS0sXZ29hv"
      },
      "source": [
        "## 最適な学習率を見つける"
      ]
    },
    {
      "cell_type": "code",
      "metadata": {
        "colab": {
          "base_uri": "https://localhost:8080/"
        },
        "id": "2rU3SHdA3mKu",
        "outputId": "f2115e55-1db5-4a72-e805-c84aa03860a8"
      },
      "source": [
        "pip install keras_lr_finder"
      ],
      "execution_count": 14,
      "outputs": [
        {
          "output_type": "stream",
          "name": "stdout",
          "text": [
            "Requirement already satisfied: keras_lr_finder in /usr/local/lib/python3.7/dist-packages (0.1)\n",
            "Requirement already satisfied: matplotlib in /usr/local/lib/python3.7/dist-packages (from keras_lr_finder) (3.2.2)\n",
            "Requirement already satisfied: keras>=2.0.0 in /usr/local/lib/python3.7/dist-packages (from keras_lr_finder) (2.7.0)\n",
            "Requirement already satisfied: cycler>=0.10 in /usr/local/lib/python3.7/dist-packages (from matplotlib->keras_lr_finder) (0.11.0)\n",
            "Requirement already satisfied: python-dateutil>=2.1 in /usr/local/lib/python3.7/dist-packages (from matplotlib->keras_lr_finder) (2.8.2)\n",
            "Requirement already satisfied: numpy>=1.11 in /usr/local/lib/python3.7/dist-packages (from matplotlib->keras_lr_finder) (1.19.5)\n",
            "Requirement already satisfied: pyparsing!=2.0.4,!=2.1.2,!=2.1.6,>=2.0.1 in /usr/local/lib/python3.7/dist-packages (from matplotlib->keras_lr_finder) (3.0.6)\n",
            "Requirement already satisfied: kiwisolver>=1.0.1 in /usr/local/lib/python3.7/dist-packages (from matplotlib->keras_lr_finder) (1.3.2)\n",
            "Requirement already satisfied: six>=1.5 in /usr/local/lib/python3.7/dist-packages (from python-dateutil>=2.1->matplotlib->keras_lr_finder) (1.15.0)\n"
          ]
        }
      ]
    },
    {
      "cell_type": "code",
      "metadata": {
        "colab": {
          "base_uri": "https://localhost:8080/",
          "height": 453
        },
        "id": "ls2HnemD2-Sl",
        "outputId": "02d2324a-fd4d-4734-8fef-1b40125079f3"
      },
      "source": [
        "from keras_lr_finder import LRFinder\n",
        "\n",
        "lr_finder = LRFinder(model)\n",
        "lr_finder.find(x_train, y_train, start_lr=0.0001, end_lr=10, batch_size=512,\n",
        "               epochs=5)\n",
        "lr_finder.plot_loss(n_skip_beginning=20, n_skip_end=5)"
      ],
      "execution_count": 15,
      "outputs": [
        {
          "output_type": "stream",
          "name": "stdout",
          "text": [
            "Epoch 1/5\n",
            "98/98 [==============================] - 4s 34ms/step - loss: 1.0300\n",
            "Epoch 2/5\n",
            "98/98 [==============================] - 3s 30ms/step - loss: 0.9985\n",
            "Epoch 3/5\n",
            "98/98 [==============================] - 3s 30ms/step - loss: 1.8998\n",
            "Epoch 4/5\n",
            "98/98 [==============================] - 3s 30ms/step - loss: 2.3069\n",
            "Epoch 5/5\n",
            "98/98 [==============================] - 3s 30ms/step - loss: 2.3819\n"
          ]
        },
        {
          "output_type": "display_data",
          "data": {
            "image/png": "[encoded data removed]",
            "text/plain": [
              "<Figure size 432x288 with 1 Axes>"
            ]
          },
          "metadata": {
            "needs_background": "light"
          }
        }
      ]
    },
    {
      "cell_type": "markdown",
      "metadata": {
        "id": "PFsINziJ4A0H"
      },
      "source": [
        "## tf.functionを利用する"
      ]
    },
    {
      "cell_type": "code",
      "metadata": {
        "colab": {
          "base_uri": "https://localhost:8080/"
        },
        "id": "ZMzADU0O3v4C",
        "outputId": "2db081ad-97db-4e61-b15d-7d5682dae5ef"
      },
      "source": [
        "import timeit\n",
        "\n",
        "\n",
        "conv_layer = tf.keras.layers.Conv2D(224, 3)\n",
        "\n",
        "def non_tf_func(image):\n",
        "  for _ in range(1,3):\n",
        "        conv_layer(image)\n",
        "  return\n",
        "\n",
        "@tf.function\n",
        "def tf_func(image):\n",
        "  for _ in range(1,3):\n",
        "        conv_layer(image)\n",
        "  return\n",
        "\n",
        "mat = tf.zeros([1, 100, 100, 100])\n",
        "\n",
        "# ウォームアップ\n",
        "non_tf_func(mat)\n",
        "tf_func(mat)\n",
        "\n",
        "print(\"Without @tf.function:\", timeit.timeit(lambda: non_tf_func(mat),\n",
        "      number=10000), \" seconds\")\n",
        "print(\"With @tf.function:\", timeit.timeit(lambda: tf_func(mat), number=10000),\n",
        "      \"seconds\")"
      ],
      "execution_count": 16,
      "outputs": [
        {
          "output_type": "stream",
          "name": "stdout",
          "text": [
            "Without @tf.function: 62.75666024800012  seconds\n",
            "With @tf.function: 4.026196660000096 seconds\n"
          ]
        }
      ]
    },
    {
      "cell_type": "code",
      "metadata": {
        "id": "WwwHp1f44Eof"
      },
      "source": [
        ""
      ],
      "execution_count": 16,
      "outputs": []
    }
  ]
}